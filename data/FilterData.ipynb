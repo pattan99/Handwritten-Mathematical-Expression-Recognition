{
  "nbformat": 4,
  "nbformat_minor": 0,
  "metadata": {
    "colab": {
      "provenance": []
    },
    "kernelspec": {
      "name": "python3",
      "display_name": "Python 3"
    },
    "language_info": {
      "name": "python"
    }
  },
  "cells": [
    {
      "cell_type": "code",
      "execution_count": null,
      "metadata": {
        "colab": {
          "base_uri": "https://localhost:8080/"
        },
        "id": "ruws1dZ3Pz3P",
        "outputId": "dd2fdadb-4f7d-4ae0-f7f1-e614003f20d0"
      },
      "outputs": [
        {
          "output_type": "stream",
          "name": "stdout",
          "text": [
            "Cloning into 'Handwritten-Mathematical-Expression-Recognition'...\n",
            "remote: Enumerating objects: 67, done.\u001b[K\n",
            "remote: Counting objects: 100% (67/67), done.\u001b[K\n",
            "remote: Compressing objects: 100% (54/54), done.\u001b[K\n",
            "remote: Total 67 (delta 10), reused 58 (delta 4), pack-reused 0 (from 0)\u001b[K\n",
            "Receiving objects: 100% (67/67), 10.69 MiB | 10.41 MiB/s, done.\n",
            "Resolving deltas: 100% (10/10), done.\n",
            "/content/Handwritten-Mathematical-Expression-Recognition\n"
          ]
        }
      ],
      "source": [
        "!git clone https://github.com/pattan99/Handwritten-Mathematical-Expression-Recognition.git\n",
        "%cd Handwritten-Mathematical-Expression-Recognition"
      ]
    },
    {
      "cell_type": "code",
      "source": [
        "!pip install -r requirements.txt"
      ],
      "metadata": {
        "colab": {
          "base_uri": "https://localhost:8080/"
        },
        "id": "SaIxYP2zP7bk",
        "outputId": "a0199b0c-a847-4067-9077-a7201a9e7264"
      },
      "execution_count": null,
      "outputs": [
        {
          "output_type": "stream",
          "name": "stdout",
          "text": [
            "Requirement already satisfied: gdown in /usr/local/lib/python3.10/dist-packages (from -r requirements.txt (line 1)) (5.2.0)\n",
            "Requirement already satisfied: regex in /usr/local/lib/python3.10/dist-packages (from -r requirements.txt (line 2)) (2024.11.6)\n",
            "Collecting ftfy (from -r requirements.txt (line 3))\n",
            "  Downloading ftfy-6.3.1-py3-none-any.whl.metadata (7.3 kB)\n",
            "Collecting jiwer (from -r requirements.txt (line 4))\n",
            "  Downloading jiwer-3.0.5-py3-none-any.whl.metadata (2.7 kB)\n",
            "Requirement already satisfied: beautifulsoup4 in /usr/local/lib/python3.10/dist-packages (from gdown->-r requirements.txt (line 1)) (4.12.3)\n",
            "Requirement already satisfied: filelock in /usr/local/lib/python3.10/dist-packages (from gdown->-r requirements.txt (line 1)) (3.16.1)\n",
            "Requirement already satisfied: requests[socks] in /usr/local/lib/python3.10/dist-packages (from gdown->-r requirements.txt (line 1)) (2.32.3)\n",
            "Requirement already satisfied: tqdm in /usr/local/lib/python3.10/dist-packages (from gdown->-r requirements.txt (line 1)) (4.67.1)\n",
            "Requirement already satisfied: wcwidth in /usr/local/lib/python3.10/dist-packages (from ftfy->-r requirements.txt (line 3)) (0.2.13)\n",
            "Requirement already satisfied: click<9.0.0,>=8.1.3 in /usr/local/lib/python3.10/dist-packages (from jiwer->-r requirements.txt (line 4)) (8.1.7)\n",
            "Collecting rapidfuzz<4,>=3 (from jiwer->-r requirements.txt (line 4))\n",
            "  Downloading rapidfuzz-3.11.0-cp310-cp310-manylinux_2_17_x86_64.manylinux2014_x86_64.whl.metadata (11 kB)\n",
            "Requirement already satisfied: soupsieve>1.2 in /usr/local/lib/python3.10/dist-packages (from beautifulsoup4->gdown->-r requirements.txt (line 1)) (2.6)\n",
            "Requirement already satisfied: charset-normalizer<4,>=2 in /usr/local/lib/python3.10/dist-packages (from requests[socks]->gdown->-r requirements.txt (line 1)) (3.4.0)\n",
            "Requirement already satisfied: idna<4,>=2.5 in /usr/local/lib/python3.10/dist-packages (from requests[socks]->gdown->-r requirements.txt (line 1)) (3.10)\n",
            "Requirement already satisfied: urllib3<3,>=1.21.1 in /usr/local/lib/python3.10/dist-packages (from requests[socks]->gdown->-r requirements.txt (line 1)) (2.2.3)\n",
            "Requirement already satisfied: certifi>=2017.4.17 in /usr/local/lib/python3.10/dist-packages (from requests[socks]->gdown->-r requirements.txt (line 1)) (2024.12.14)\n",
            "Requirement already satisfied: PySocks!=1.5.7,>=1.5.6 in /usr/local/lib/python3.10/dist-packages (from requests[socks]->gdown->-r requirements.txt (line 1)) (1.7.1)\n",
            "Downloading ftfy-6.3.1-py3-none-any.whl (44 kB)\n",
            "\u001b[2K   \u001b[90m━━━━━━━━━━━━━━━━━━━━━━━━━━━━━━━━━━━━━━━━\u001b[0m \u001b[32m44.8/44.8 kB\u001b[0m \u001b[31m2.8 MB/s\u001b[0m eta \u001b[36m0:00:00\u001b[0m\n",
            "\u001b[?25hDownloading jiwer-3.0.5-py3-none-any.whl (21 kB)\n",
            "Downloading rapidfuzz-3.11.0-cp310-cp310-manylinux_2_17_x86_64.manylinux2014_x86_64.whl (3.1 MB)\n",
            "\u001b[2K   \u001b[90m━━━━━━━━━━━━━━━━━━━━━━━━━━━━━━━━━━━━━━━━\u001b[0m \u001b[32m3.1/3.1 MB\u001b[0m \u001b[31m30.8 MB/s\u001b[0m eta \u001b[36m0:00:00\u001b[0m\n",
            "\u001b[?25hInstalling collected packages: rapidfuzz, ftfy, jiwer\n",
            "Successfully installed ftfy-6.3.1 jiwer-3.0.5 rapidfuzz-3.11.0\n"
          ]
        }
      ]
    },
    {
      "cell_type": "code",
      "source": [
        "import os\n",
        "MATHWRITING_ROOT_DIR='data/mathwriting-2024'\n",
        "TRAIN_DIR = os.path.join(MATHWRITING_ROOT_DIR, 'train')\n",
        "VAL_DIR = os.path.join(MATHWRITING_ROOT_DIR, 'valid')\n",
        "TEST_DIR = os.path.join(MATHWRITING_ROOT_DIR, 'test')\n",
        "SYMBOL_DIR = os.path.join(MATHWRITING_ROOT_DIR, 'symbols')"
      ],
      "metadata": {
        "id": "mrD3b0iAP88w"
      },
      "execution_count": null,
      "outputs": []
    },
    {
      "cell_type": "code",
      "source": [
        "import pandas as pd\n",
        "train_df = pd.read_csv(\"data/train.csv\")\n",
        "# train_df['file_path'] = train_df['file_path'].apply(lambda x: MATHWRITING_ROOT_DIR+'/'+x.split('/')[-2]+'/'+x.split('/')[-1].replace('.inkml','.bin'))\n",
        "# train_df['image_path'] = train_df['file_path'].apply(lambda x: x.replace('train', 'train_img').replace('.bin','.png'))\n",
        "# train_df['file_path'] = train_df['file_path'].apply(lambda x: x.replace('train', 'train_merged'))\n",
        "\n",
        "train_df.head()"
      ],
      "metadata": {
        "colab": {
          "base_uri": "https://localhost:8080/",
          "height": 206
        },
        "id": "60hkFGfJQGM6",
        "outputId": "89a9d6b9-6941-4626-95a7-63db3930a05c"
      },
      "execution_count": null,
      "outputs": [
        {
          "output_type": "execute_result",
          "data": {
            "text/plain": [
              "   Unnamed: 0                                          file_path  \\\n",
              "0           0  data/mathwriting-2024/train/918ecee1572d08dd.i...   \n",
              "1           1  data/mathwriting-2024/train/7d82fd8b55c6e449.i...   \n",
              "2           2  data/mathwriting-2024/train/2d15249bf38715e0.i...   \n",
              "3           3  data/mathwriting-2024/train/56790991984d0fd4.i...   \n",
              "4           4  data/mathwriting-2024/train/356254293fe17260.i...   \n",
              "\n",
              "                                        transcript  \n",
              "0                                  \\frac{d}{dx}(y)  \n",
              "1                                      \\hat{a}_{i}  \n",
              "2  \\frac{\\frac{\\frac{10}{383}}{\\sqrt{6}}}{185+191}  \n",
              "3                f^{i^{c^{\\cdot^{\\cdot^{\\cdot}}}}}  \n",
              "4                            \\prod_{p^{k}}f(p^{k})  "
            ],
            "text/html": [
              "\n",
              "  <div id=\"df-fa368987-a84a-4af1-966b-a6e32a952577\" class=\"colab-df-container\">\n",
              "    <div>\n",
              "<style scoped>\n",
              "    .dataframe tbody tr th:only-of-type {\n",
              "        vertical-align: middle;\n",
              "    }\n",
              "\n",
              "    .dataframe tbody tr th {\n",
              "        vertical-align: top;\n",
              "    }\n",
              "\n",
              "    .dataframe thead th {\n",
              "        text-align: right;\n",
              "    }\n",
              "</style>\n",
              "<table border=\"1\" class=\"dataframe\">\n",
              "  <thead>\n",
              "    <tr style=\"text-align: right;\">\n",
              "      <th></th>\n",
              "      <th>Unnamed: 0</th>\n",
              "      <th>file_path</th>\n",
              "      <th>transcript</th>\n",
              "    </tr>\n",
              "  </thead>\n",
              "  <tbody>\n",
              "    <tr>\n",
              "      <th>0</th>\n",
              "      <td>0</td>\n",
              "      <td>data/mathwriting-2024/train/918ecee1572d08dd.i...</td>\n",
              "      <td>\\frac{d}{dx}(y)</td>\n",
              "    </tr>\n",
              "    <tr>\n",
              "      <th>1</th>\n",
              "      <td>1</td>\n",
              "      <td>data/mathwriting-2024/train/7d82fd8b55c6e449.i...</td>\n",
              "      <td>\\hat{a}_{i}</td>\n",
              "    </tr>\n",
              "    <tr>\n",
              "      <th>2</th>\n",
              "      <td>2</td>\n",
              "      <td>data/mathwriting-2024/train/2d15249bf38715e0.i...</td>\n",
              "      <td>\\frac{\\frac{\\frac{10}{383}}{\\sqrt{6}}}{185+191}</td>\n",
              "    </tr>\n",
              "    <tr>\n",
              "      <th>3</th>\n",
              "      <td>3</td>\n",
              "      <td>data/mathwriting-2024/train/56790991984d0fd4.i...</td>\n",
              "      <td>f^{i^{c^{\\cdot^{\\cdot^{\\cdot}}}}}</td>\n",
              "    </tr>\n",
              "    <tr>\n",
              "      <th>4</th>\n",
              "      <td>4</td>\n",
              "      <td>data/mathwriting-2024/train/356254293fe17260.i...</td>\n",
              "      <td>\\prod_{p^{k}}f(p^{k})</td>\n",
              "    </tr>\n",
              "  </tbody>\n",
              "</table>\n",
              "</div>\n",
              "    <div class=\"colab-df-buttons\">\n",
              "\n",
              "  <div class=\"colab-df-container\">\n",
              "    <button class=\"colab-df-convert\" onclick=\"convertToInteractive('df-fa368987-a84a-4af1-966b-a6e32a952577')\"\n",
              "            title=\"Convert this dataframe to an interactive table.\"\n",
              "            style=\"display:none;\">\n",
              "\n",
              "  <svg xmlns=\"http://www.w3.org/2000/svg\" height=\"24px\" viewBox=\"0 -960 960 960\">\n",
              "    <path d=\"M120-120v-720h720v720H120Zm60-500h600v-160H180v160Zm220 220h160v-160H400v160Zm0 220h160v-160H400v160ZM180-400h160v-160H180v160Zm440 0h160v-160H620v160ZM180-180h160v-160H180v160Zm440 0h160v-160H620v160Z\"/>\n",
              "  </svg>\n",
              "    </button>\n",
              "\n",
              "  <style>\n",
              "    .colab-df-container {\n",
              "      display:flex;\n",
              "      gap: 12px;\n",
              "    }\n",
              "\n",
              "    .colab-df-convert {\n",
              "      background-color: #E8F0FE;\n",
              "      border: none;\n",
              "      border-radius: 50%;\n",
              "      cursor: pointer;\n",
              "      display: none;\n",
              "      fill: #1967D2;\n",
              "      height: 32px;\n",
              "      padding: 0 0 0 0;\n",
              "      width: 32px;\n",
              "    }\n",
              "\n",
              "    .colab-df-convert:hover {\n",
              "      background-color: #E2EBFA;\n",
              "      box-shadow: 0px 1px 2px rgba(60, 64, 67, 0.3), 0px 1px 3px 1px rgba(60, 64, 67, 0.15);\n",
              "      fill: #174EA6;\n",
              "    }\n",
              "\n",
              "    .colab-df-buttons div {\n",
              "      margin-bottom: 4px;\n",
              "    }\n",
              "\n",
              "    [theme=dark] .colab-df-convert {\n",
              "      background-color: #3B4455;\n",
              "      fill: #D2E3FC;\n",
              "    }\n",
              "\n",
              "    [theme=dark] .colab-df-convert:hover {\n",
              "      background-color: #434B5C;\n",
              "      box-shadow: 0px 1px 3px 1px rgba(0, 0, 0, 0.15);\n",
              "      filter: drop-shadow(0px 1px 2px rgba(0, 0, 0, 0.3));\n",
              "      fill: #FFFFFF;\n",
              "    }\n",
              "  </style>\n",
              "\n",
              "    <script>\n",
              "      const buttonEl =\n",
              "        document.querySelector('#df-fa368987-a84a-4af1-966b-a6e32a952577 button.colab-df-convert');\n",
              "      buttonEl.style.display =\n",
              "        google.colab.kernel.accessAllowed ? 'block' : 'none';\n",
              "\n",
              "      async function convertToInteractive(key) {\n",
              "        const element = document.querySelector('#df-fa368987-a84a-4af1-966b-a6e32a952577');\n",
              "        const dataTable =\n",
              "          await google.colab.kernel.invokeFunction('convertToInteractive',\n",
              "                                                    [key], {});\n",
              "        if (!dataTable) return;\n",
              "\n",
              "        const docLinkHtml = 'Like what you see? Visit the ' +\n",
              "          '<a target=\"_blank\" href=https://colab.research.google.com/notebooks/data_table.ipynb>data table notebook</a>'\n",
              "          + ' to learn more about interactive tables.';\n",
              "        element.innerHTML = '';\n",
              "        dataTable['output_type'] = 'display_data';\n",
              "        await google.colab.output.renderOutput(dataTable, element);\n",
              "        const docLink = document.createElement('div');\n",
              "        docLink.innerHTML = docLinkHtml;\n",
              "        element.appendChild(docLink);\n",
              "      }\n",
              "    </script>\n",
              "  </div>\n",
              "\n",
              "\n",
              "<div id=\"df-aa059968-9ca0-4aef-96ba-702897982703\">\n",
              "  <button class=\"colab-df-quickchart\" onclick=\"quickchart('df-aa059968-9ca0-4aef-96ba-702897982703')\"\n",
              "            title=\"Suggest charts\"\n",
              "            style=\"display:none;\">\n",
              "\n",
              "<svg xmlns=\"http://www.w3.org/2000/svg\" height=\"24px\"viewBox=\"0 0 24 24\"\n",
              "     width=\"24px\">\n",
              "    <g>\n",
              "        <path d=\"M19 3H5c-1.1 0-2 .9-2 2v14c0 1.1.9 2 2 2h14c1.1 0 2-.9 2-2V5c0-1.1-.9-2-2-2zM9 17H7v-7h2v7zm4 0h-2V7h2v10zm4 0h-2v-4h2v4z\"/>\n",
              "    </g>\n",
              "</svg>\n",
              "  </button>\n",
              "\n",
              "<style>\n",
              "  .colab-df-quickchart {\n",
              "      --bg-color: #E8F0FE;\n",
              "      --fill-color: #1967D2;\n",
              "      --hover-bg-color: #E2EBFA;\n",
              "      --hover-fill-color: #174EA6;\n",
              "      --disabled-fill-color: #AAA;\n",
              "      --disabled-bg-color: #DDD;\n",
              "  }\n",
              "\n",
              "  [theme=dark] .colab-df-quickchart {\n",
              "      --bg-color: #3B4455;\n",
              "      --fill-color: #D2E3FC;\n",
              "      --hover-bg-color: #434B5C;\n",
              "      --hover-fill-color: #FFFFFF;\n",
              "      --disabled-bg-color: #3B4455;\n",
              "      --disabled-fill-color: #666;\n",
              "  }\n",
              "\n",
              "  .colab-df-quickchart {\n",
              "    background-color: var(--bg-color);\n",
              "    border: none;\n",
              "    border-radius: 50%;\n",
              "    cursor: pointer;\n",
              "    display: none;\n",
              "    fill: var(--fill-color);\n",
              "    height: 32px;\n",
              "    padding: 0;\n",
              "    width: 32px;\n",
              "  }\n",
              "\n",
              "  .colab-df-quickchart:hover {\n",
              "    background-color: var(--hover-bg-color);\n",
              "    box-shadow: 0 1px 2px rgba(60, 64, 67, 0.3), 0 1px 3px 1px rgba(60, 64, 67, 0.15);\n",
              "    fill: var(--button-hover-fill-color);\n",
              "  }\n",
              "\n",
              "  .colab-df-quickchart-complete:disabled,\n",
              "  .colab-df-quickchart-complete:disabled:hover {\n",
              "    background-color: var(--disabled-bg-color);\n",
              "    fill: var(--disabled-fill-color);\n",
              "    box-shadow: none;\n",
              "  }\n",
              "\n",
              "  .colab-df-spinner {\n",
              "    border: 2px solid var(--fill-color);\n",
              "    border-color: transparent;\n",
              "    border-bottom-color: var(--fill-color);\n",
              "    animation:\n",
              "      spin 1s steps(1) infinite;\n",
              "  }\n",
              "\n",
              "  @keyframes spin {\n",
              "    0% {\n",
              "      border-color: transparent;\n",
              "      border-bottom-color: var(--fill-color);\n",
              "      border-left-color: var(--fill-color);\n",
              "    }\n",
              "    20% {\n",
              "      border-color: transparent;\n",
              "      border-left-color: var(--fill-color);\n",
              "      border-top-color: var(--fill-color);\n",
              "    }\n",
              "    30% {\n",
              "      border-color: transparent;\n",
              "      border-left-color: var(--fill-color);\n",
              "      border-top-color: var(--fill-color);\n",
              "      border-right-color: var(--fill-color);\n",
              "    }\n",
              "    40% {\n",
              "      border-color: transparent;\n",
              "      border-right-color: var(--fill-color);\n",
              "      border-top-color: var(--fill-color);\n",
              "    }\n",
              "    60% {\n",
              "      border-color: transparent;\n",
              "      border-right-color: var(--fill-color);\n",
              "    }\n",
              "    80% {\n",
              "      border-color: transparent;\n",
              "      border-right-color: var(--fill-color);\n",
              "      border-bottom-color: var(--fill-color);\n",
              "    }\n",
              "    90% {\n",
              "      border-color: transparent;\n",
              "      border-bottom-color: var(--fill-color);\n",
              "    }\n",
              "  }\n",
              "</style>\n",
              "\n",
              "  <script>\n",
              "    async function quickchart(key) {\n",
              "      const quickchartButtonEl =\n",
              "        document.querySelector('#' + key + ' button');\n",
              "      quickchartButtonEl.disabled = true;  // To prevent multiple clicks.\n",
              "      quickchartButtonEl.classList.add('colab-df-spinner');\n",
              "      try {\n",
              "        const charts = await google.colab.kernel.invokeFunction(\n",
              "            'suggestCharts', [key], {});\n",
              "      } catch (error) {\n",
              "        console.error('Error during call to suggestCharts:', error);\n",
              "      }\n",
              "      quickchartButtonEl.classList.remove('colab-df-spinner');\n",
              "      quickchartButtonEl.classList.add('colab-df-quickchart-complete');\n",
              "    }\n",
              "    (() => {\n",
              "      let quickchartButtonEl =\n",
              "        document.querySelector('#df-aa059968-9ca0-4aef-96ba-702897982703 button');\n",
              "      quickchartButtonEl.style.display =\n",
              "        google.colab.kernel.accessAllowed ? 'block' : 'none';\n",
              "    })();\n",
              "  </script>\n",
              "</div>\n",
              "\n",
              "    </div>\n",
              "  </div>\n"
            ],
            "application/vnd.google.colaboratory.intrinsic+json": {
              "type": "dataframe",
              "variable_name": "train_df"
            }
          },
          "metadata": {},
          "execution_count": 44
        }
      ]
    },
    {
      "cell_type": "code",
      "source": [
        "from utils import VectorizeChar\n",
        "vc = VectorizeChar(102)"
      ],
      "metadata": {
        "id": "-rvbYhMOQJMU"
      },
      "execution_count": null,
      "outputs": []
    },
    {
      "cell_type": "code",
      "source": [
        "vc(train_df.iloc[0]['transcript'])"
      ],
      "metadata": {
        "colab": {
          "base_uri": "https://localhost:8080/"
        },
        "id": "nq05B4OMQN0C",
        "outputId": "6b072ca3-ae74-425a-9f09-f481c9d9e778"
      },
      "execution_count": null,
      "outputs": [
        {
          "output_type": "execute_result",
          "data": {
            "text/plain": [
              "[1, 159, 5, 13, 6, 5, 13, 33, 6, 105, 34, 106, 2]"
            ]
          },
          "metadata": {},
          "execution_count": 37
        }
      ]
    },
    {
      "cell_type": "code",
      "source": [
        "import numpy as np\n",
        "from tqdm import tqdm\n",
        "\n",
        "# Create array 257 tokens\n",
        "frequency = np.zeros(257)\n",
        "num_sample_per_token = 5\n",
        "saved_data = []\n",
        "\n",
        "for index, row in tqdm(train_df.iterrows(), total=train_df.shape[0]):\n",
        "    transcript = row['transcript']\n",
        "    file_path = row['file_path']\n",
        "\n",
        "    vectorized_transcript = vc(transcript)[1:-1]\n",
        "    for token in vectorized_transcript:\n",
        "        if frequency[token] < num_sample_per_token:\n",
        "            one_hot_transcript = np.zeros(257)\n",
        "            one_hot_transcript[vectorized_transcript] = 1\n",
        "            frequency += one_hot_transcript\n",
        "\n",
        "            saved_data.append({\n",
        "                'transcript': transcript,\n",
        "                'file_path': file_path,\n",
        "            })\n",
        "\n",
        "            break\n",
        "\n",
        "# Convert saved_data to pandas and save\n",
        "saved_df = pd.DataFrame(saved_data)\n",
        "saved_df.to_csv(f'train_{num_sample_per_token}_per_tokens.csv', index=False)\n",
        "\n",
        "frequency"
      ],
      "metadata": {
        "colab": {
          "base_uri": "https://localhost:8080/"
        },
        "id": "VxpZdrbUTA4a",
        "outputId": "5745da12-4d42-45e4-bc45-94aa1a248419"
      },
      "execution_count": null,
      "outputs": [
        {
          "output_type": "stream",
          "name": "stderr",
          "text": [
            "  7%|▋         | 16004/229864 [00:01<00:18, 11794.24it/s]"
          ]
        },
        {
          "output_type": "stream",
          "name": "stdout",
          "text": [
            "MN/M\\triangleleft G/M\n"
          ]
        },
        {
          "output_type": "stream",
          "name": "stderr",
          "text": [
            " 19%|█▉        | 43964/229864 [00:03<00:15, 12377.68it/s]"
          ]
        },
        {
          "output_type": "stream",
          "name": "stdout",
          "text": [
            "b\\triangleleft a=b^{a}\n"
          ]
        },
        {
          "output_type": "stream",
          "name": "stderr",
          "text": [
            "100%|██████████| 229864/229864 [00:20<00:00, 11346.53it/s]\n"
          ]
        },
        {
          "output_type": "execute_result",
          "data": {
            "text/plain": [
              "array([0.000e+00, 0.000e+00, 0.000e+00, 6.200e+02, 5.420e+02, 1.198e+03,\n",
              "       1.198e+03, 2.500e+01, 6.800e+01, 5.170e+02, 1.270e+02, 6.800e+01,\n",
              "       1.150e+02, 1.600e+02, 8.100e+01, 8.800e+01, 7.700e+01, 2.600e+01,\n",
              "       1.480e+02, 4.600e+01, 8.200e+01, 7.000e+01, 1.000e+02, 2.060e+02,\n",
              "       6.600e+01, 8.900e+01, 3.700e+01, 7.200e+01, 7.400e+01, 9.700e+01,\n",
              "       5.000e+01, 7.800e+01, 3.200e+01, 1.940e+02, 7.100e+01, 4.300e+01,\n",
              "       1.230e+02, 7.200e+01, 6.700e+01, 5.600e+01, 5.200e+01, 4.600e+01,\n",
              "       3.600e+01, 4.100e+01, 4.000e+01, 2.200e+01, 3.200e+01, 4.200e+01,\n",
              "       5.300e+01, 3.800e+01, 2.500e+01, 7.300e+01, 2.800e+01, 7.700e+01,\n",
              "       7.100e+01, 6.800e+01, 2.400e+01, 6.200e+01, 2.500e+01, 7.400e+01,\n",
              "       1.900e+01, 2.700e+01, 2.300e+02, 4.250e+02, 3.390e+02, 1.020e+02,\n",
              "       7.700e+01, 5.900e+01, 3.900e+01, 3.400e+01, 4.000e+01, 3.200e+01,\n",
              "       8.000e+00, 1.000e+01, 1.000e+01, 1.300e+01, 1.000e+01, 1.000e+01,\n",
              "       1.000e+01, 1.000e+01, 1.000e+01, 1.100e+01, 1.000e+01, 1.000e+01,\n",
              "       1.000e+01, 1.000e+01, 1.300e+01, 1.000e+01, 1.000e+01, 1.000e+01,\n",
              "       1.400e+01, 1.000e+01, 1.000e+01, 1.000e+01, 1.000e+01, 1.000e+01,\n",
              "       1.000e+01, 1.000e+01, 1.100e+01, 1.400e+02, 1.000e+01, 5.400e+01,\n",
              "       1.800e+01, 1.000e+01, 4.500e+01, 4.740e+02, 4.720e+02, 8.300e+01,\n",
              "       8.300e+01, 4.400e+01, 4.400e+01, 3.700e+01, 8.000e+01, 1.520e+02,\n",
              "       2.600e+02, 1.000e+01, 4.000e+00, 1.100e+01, 1.000e+01, 9.000e+01,\n",
              "       1.200e+01, 4.400e+01, 2.100e+01, 1.900e+01, 3.100e+01, 1.600e+01,\n",
              "       1.700e+01, 1.200e+01, 1.700e+01, 1.900e+01, 1.000e+01, 1.400e+01,\n",
              "       3.600e+01, 1.000e+01, 1.700e+01, 2.800e+01, 2.500e+01, 1.800e+01,\n",
              "       3.300e+01, 1.300e+01, 4.600e+01, 1.200e+01, 3.400e+01, 1.200e+01,\n",
              "       2.600e+01, 2.700e+01, 1.300e+01, 2.000e+01, 2.700e+01, 1.000e+01,\n",
              "       1.000e+01, 1.000e+01, 3.400e+01, 1.000e+01, 1.400e+01, 1.000e+01,\n",
              "       1.000e+01, 1.000e+01, 1.300e+01, 4.660e+02, 1.500e+02, 3.000e+01,\n",
              "       3.800e+01, 1.000e+01, 4.900e+01, 1.000e+01, 6.600e+01, 5.600e+01,\n",
              "       1.300e+01, 4.500e+01, 3.700e+01, 4.800e+01, 1.100e+01, 1.000e+01,\n",
              "       6.900e+01, 6.900e+01, 1.300e+01, 1.800e+01, 1.000e+01, 1.000e+01,\n",
              "       1.000e+01, 1.000e+01, 1.000e+01, 1.600e+01, 1.000e+01, 2.300e+01,\n",
              "       1.000e+01, 2.000e+01, 1.900e+01, 5.870e+02, 1.200e+01, 1.000e+01,\n",
              "       2.700e+01, 1.000e+01, 1.000e+01, 1.000e+01, 1.000e+01, 7.000e+01,\n",
              "       1.000e+01, 3.100e+01, 1.000e+00, 1.000e+01, 1.300e+01, 1.000e+01,\n",
              "       1.000e+01, 7.000e+00, 1.000e+01, 2.700e+01, 1.300e+01, 7.000e+00,\n",
              "       1.200e+01, 1.000e+01, 9.000e+00, 1.000e+01, 1.200e+01, 1.600e+01,\n",
              "       1.000e+01, 1.000e+01, 1.000e+01, 1.000e+01, 1.100e+01, 1.400e+01,\n",
              "       1.400e+01, 1.400e+01, 1.300e+01, 1.000e+01, 1.000e+01, 1.000e+01,\n",
              "       1.000e+01, 1.000e+01, 1.700e+01, 4.700e+01, 1.000e+01, 1.000e+01,\n",
              "       1.000e+01, 1.000e+01, 5.800e+01, 1.100e+01, 1.200e+01, 1.000e+01,\n",
              "       1.000e+01, 1.000e+01, 1.800e+01, 1.300e+01, 3.200e+01, 1.000e+01,\n",
              "       1.300e+01, 1.200e+01, 5.300e+01, 1.100e+01, 1.000e+01, 1.000e+01,\n",
              "       2.000e+00, 1.000e+01, 1.400e+01, 7.000e+00, 1.000e+01])"
            ]
          },
          "metadata": {},
          "execution_count": 64
        }
      ]
    },
    {
      "cell_type": "code",
      "source": [
        "saved_df = pd.read_csv('train_5_per_tokens.csv')\n",
        "saved_df.shape"
      ],
      "metadata": {
        "colab": {
          "base_uri": "https://localhost:8080/"
        },
        "id": "DxvsQJamWjik",
        "outputId": "f34c3abe-2344-44e4-9956-7139ec682d01"
      },
      "execution_count": null,
      "outputs": [
        {
          "output_type": "execute_result",
          "data": {
            "text/plain": [
              "(804, 2)"
            ]
          },
          "metadata": {},
          "execution_count": 50
        }
      ]
    },
    {
      "cell_type": "code",
      "source": [
        "saved_df = pd.read_csv('train_20_per_tokens.csv')\n",
        "saved_df.shape"
      ],
      "metadata": {
        "colab": {
          "base_uri": "https://localhost:8080/"
        },
        "id": "FLeaZ2FUYWRo",
        "outputId": "3412ae62-440a-4d70-90b6-f90b8b08a8bb"
      },
      "execution_count": null,
      "outputs": [
        {
          "output_type": "execute_result",
          "data": {
            "text/plain": [
              "(3034, 2)"
            ]
          },
          "metadata": {},
          "execution_count": 51
        }
      ]
    },
    {
      "cell_type": "code",
      "source": [
        "saved_df = pd.read_csv('train_100_per_tokens.csv')\n",
        "saved_df.shape"
      ],
      "metadata": {
        "colab": {
          "base_uri": "https://localhost:8080/"
        },
        "id": "4H9KK5unYYO8",
        "outputId": "345ced67-c8c3-4413-ba2d-1e9f4566f8c0"
      },
      "execution_count": null,
      "outputs": [
        {
          "output_type": "execute_result",
          "data": {
            "text/plain": [
              "(11974, 2)"
            ]
          },
          "metadata": {},
          "execution_count": 53
        }
      ]
    },
    {
      "cell_type": "code",
      "source": [
        "saved_df = pd.read_csv('train_500_per_tokens.csv')\n",
        "saved_df.shape"
      ],
      "metadata": {
        "colab": {
          "base_uri": "https://localhost:8080/"
        },
        "id": "4wrw5RhoZCw4",
        "outputId": "e6e67bf6-cddd-4573-cbc5-ca4d6d52338d"
      },
      "execution_count": null,
      "outputs": [
        {
          "output_type": "execute_result",
          "data": {
            "text/plain": [
              "(40357, 2)"
            ]
          },
          "metadata": {},
          "execution_count": 55
        }
      ]
    },
    {
      "cell_type": "code",
      "source": [
        "saved_df = pd.read_csv('train_2000_per_tokens.csv')\n",
        "saved_df.shape"
      ],
      "metadata": {
        "colab": {
          "base_uri": "https://localhost:8080/"
        },
        "id": "mGTW0DxuZPGr",
        "outputId": "937de59f-9a47-47ed-d133-2c947e6e836a"
      },
      "execution_count": null,
      "outputs": [
        {
          "output_type": "execute_result",
          "data": {
            "text/plain": [
              "(107873, 2)"
            ]
          },
          "metadata": {},
          "execution_count": 57
        }
      ]
    },
    {
      "cell_type": "code",
      "source": [],
      "metadata": {
        "id": "YFJzBN-VZoud"
      },
      "execution_count": null,
      "outputs": []
    }
  ]
}